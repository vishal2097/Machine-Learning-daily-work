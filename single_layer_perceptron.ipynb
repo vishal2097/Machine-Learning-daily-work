{
 "cells": [
  {
   "cell_type": "markdown",
   "metadata": {},
   "source": [
    "Construct a perceptron network to train for the patterns below. \n",
    "Set initial weight and bias values as 0 and learning rate as 0.5. \n",
    "Calculate the new weights for one iteration."
   ]
  },
  {
   "cell_type": "code",
   "execution_count": 22,
   "metadata": {},
   "outputs": [],
   "source": [
    "import numpy as np\n",
    "\n",
    "class P:\n",
    " \n",
    "    def __init__(self, learn_rate=0.5, no_of_iteration=1,weights=0,bias=0):\n",
    "    \n",
    "      self.lr = learn_rate\n",
    "      self.epochs = no_of_iteration\n",
    "      self.weights = weights\n",
    "      self.bias = bias\n",
    "    \n",
    "    def fit(self, X, y):\n",
    "      self.weights = np.zeros(X.shape[1])\n",
    "      self.bias = 0\n",
    "\n",
    "      for epoch in range(self.epochs):\n",
    "          for i in range(X.shape[0]):\n",
    "\n",
    "              y_pred = self.activation_func(np.dot(self.weights, X[i]) + self.bias)\n",
    "\n",
    "              self.weights = self.weights + self.lr * (y[i] - y_pred)*X[i]\n",
    "              self.bias = self.bias + self.lr * (y[i] - y_pred)\n",
    "      \n",
    "      print(\"Training:\")\n",
    "      print(\"Weights: \", self.weights)\n",
    "      print(\"Bias: \", self.bias)\n",
    "\n",
    "    def activation_func(self, activation):\n",
    "        if activation>=0:\n",
    "            return 1\n",
    "        else:\n",
    "            return 0\n",
    "    \n",
    "    def predict(self, X):\n",
    "      y_pred = []\n",
    "      for i in range(X.shape[0]):\n",
    "          y_pred.append(self.activation_func(np.dot(self.weights, X[i]) + self.bias))\n",
    "\n",
    "      print(\"\\nTesting:\")\n",
    "      \n",
    "\n"
   ]
  },
  {
   "cell_type": "code",
   "execution_count": 23,
   "metadata": {},
   "outputs": [
    {
     "name": "stdout",
     "output_type": "stream",
     "text": [
      "Training:\n",
      "Weights:  [0. 0. 0.]\n",
      "Bias:  0.0\n"
     ]
    }
   ],
   "source": [
    "if __name__ == '__main__':\n",
    "    X = np.array([\n",
    "        [1, 1, 1],\n",
    "        [0, 1, 0],\n",
    "        [0, 1, 0]\n",
    "    ])\n",
    "\n",
    "    y = np.array([1, 1, 1]) \n",
    "   \n",
    "    perceptron = P()\n",
    "    perceptron.fit(X, y)\n",
    "    "
   ]
  },
  {
   "cell_type": "code",
   "execution_count": 24,
   "metadata": {},
   "outputs": [
    {
     "name": "stdout",
     "output_type": "stream",
     "text": [
      "Training:\n",
      "Weights:  [-0.5  0.  -0.5]\n",
      "Bias:  -0.5\n"
     ]
    }
   ],
   "source": [
    "if __name__ == '__main__':\n",
    "    X = np.array([\n",
    "        [1, 0, 1],\n",
    "        [1, 1, 1],\n",
    "        [1, 0, 1]\n",
    "    ])\n",
    "\n",
    "    y = np.array([0, 0, 0]) \n",
    "   \n",
    "    perceptron = P()\n",
    "    perceptron.fit(X, y)\n",
    "    "
   ]
  },
  {
   "cell_type": "markdown",
   "metadata": {},
   "source": [
    "# Conclusion"
   ]
  },
  {
   "cell_type": "markdown",
   "metadata": {},
   "source": [
    "Implementation of single layer perceptron for given pattern. from this updated weight and bias value are shown in result"
   ]
  },
  {
   "cell_type": "code",
   "execution_count": null,
   "metadata": {},
   "outputs": [],
   "source": []
  }
 ],
 "metadata": {
  "kernelspec": {
   "display_name": "Python 3",
   "language": "python",
   "name": "python3"
  },
  "language_info": {
   "codemirror_mode": {
    "name": "ipython",
    "version": 3
   },
   "file_extension": ".py",
   "mimetype": "text/x-python",
   "name": "python",
   "nbconvert_exporter": "python",
   "pygments_lexer": "ipython3",
   "version": "3.8.3"
  }
 },
 "nbformat": 4,
 "nbformat_minor": 4
}
