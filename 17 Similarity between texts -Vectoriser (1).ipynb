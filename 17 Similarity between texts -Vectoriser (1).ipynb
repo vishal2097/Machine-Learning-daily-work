{
 "cells": [
  {
   "cell_type": "code",
   "execution_count": 1,
   "metadata": {},
   "outputs": [],
   "source": [
    "from sklearn.feature_extraction.text import CountVectorizer\n",
    "#from sklearn.feature_extraction.text import TfidfVectorizer"
   ]
  },
  {
   "cell_type": "code",
   "execution_count": 5,
   "metadata": {},
   "outputs": [
    {
     "name": "stdout",
     "output_type": "stream",
     "text": [
      "character:0\n",
      "engine:1\n",
      "good:2\n",
      "is:3\n",
      "optical:4\n",
      "recognition:5\n",
      "significant:6\n",
      "tessaract:7\n",
      "[[0 0 1 1 1 0 0 0]]\n",
      "[[0.89442719]]\n",
      "Sentence 1:  [[1 1 0 1 0 1 0 0]]\n",
      "Sentence 2:  [[1 1 0 1 1 1 0 0]]\n"
     ]
    }
   ],
   "source": [
    "vect = CountVectorizer(binary =True) # Explore other parameters too!!\n",
    "corpus = [\"Tessaract is good optical character recognition engine  \", \"optical character recognition is significant \"]\n",
    "vect.fit(corpus)\n",
    "\n",
    "vocab = vect.vocabulary_  #vocabulary_  built-in:-)\n",
    "for key in sorted(vocab.keys()):\n",
    "    print(\"{}:{}\".format(key, vocab[key]))\n",
    "    \n",
    "print(vect.transform([\"This is a good optical illusion\"]).toarray())\n",
    "\n",
    "\n",
    "from sklearn.metrics.pairwise import cosine_similarity\n",
    "similarity = cosine_similarity(vect.transform([\"Google Cloud Vision is a character recognition engine\"]).toarray(), vect.transform([\"OCR is an optical character recognition engine\"]).toarray())\n",
    "print(similarity)\n",
    "print(\"Sentence 1: \",vect.transform([\"Google Cloud Vision is a character recognition engine\"]).toarray())\n",
    "print(\"Sentence 2: \",vect.transform([\"OCR is an optical character recognition engine\"]).toarray())\n",
    "\n"
   ]
  }
 ],
 "metadata": {
  "kernelspec": {
   "display_name": "Python 3",
   "language": "python",
   "name": "python3"
  },
  "language_info": {
   "codemirror_mode": {
    "name": "ipython",
    "version": 3
   },
   "file_extension": ".py",
   "mimetype": "text/x-python",
   "name": "python",
   "nbconvert_exporter": "python",
   "pygments_lexer": "ipython3",
   "version": "3.8.3"
  }
 },
 "nbformat": 4,
 "nbformat_minor": 2
}
